{
 "cells": [
  {
   "cell_type": "code",
   "execution_count": 1,
   "id": "d4f6587d",
   "metadata": {},
   "outputs": [
    {
     "name": "stdout",
     "output_type": "stream",
     "text": [
      "Hello World, my name is Cheri Beda\n"
     ]
    }
   ],
   "source": [
    "print(\"Hello World, my name is Cheri Beda\")\n"
   ]
  },
  {
   "cell_type": "code",
   "execution_count": 4,
   "id": "1e9cda2e",
   "metadata": {},
   "outputs": [
    {
     "name": "stdout",
     "output_type": "stream",
     "text": [
      "The sum of 5 and 7 is: 12\n"
     ]
    }
   ],
   "source": [
    "# Define two numbers\n",
    "num1 = 5\n",
    "num2 = 7\n",
    "\n",
    "# Add the numbers\n",
    "result = num1 + num2\n",
    "\n",
    "# Print the result\n",
    "print(\"The sum of\", num1, \"and\", num2, \"is:\", result)\n"
   ]
  },
  {
   "cell_type": "code",
   "execution_count": 5,
   "id": "9049a4d3",
   "metadata": {},
   "outputs": [
    {
     "name": "stdout",
     "output_type": "stream",
     "text": [
      "The subtraction of 10 and 5 is: 5\n"
     ]
    }
   ],
   "source": [
    "# Define two numbers\n",
    "num1 = 10\n",
    "num2 = 5\n",
    "\n",
    "# Subtract the numbers\n",
    "result = num1 - num2\n",
    "\n",
    "# Print the result\n",
    "print(\"The subtraction of\", num1, \"and\", num2, \"is:\", result)\n"
   ]
  },
  {
   "cell_type": "code",
   "execution_count": 6,
   "id": "240516e0",
   "metadata": {},
   "outputs": [
    {
     "name": "stdout",
     "output_type": "stream",
     "text": [
      "The multiplication of 20 and 6 is: 120\n"
     ]
    }
   ],
   "source": [
    "# Define two numbers\n",
    "num1 = 20\n",
    "num2 = 6\n",
    "\n",
    "# Multiply the numbers\n",
    "result = num1 * num2\n",
    "\n",
    "# Print the result\n",
    "print(\"The multiplication of\", num1, \"and\", num2, \"is:\", result)"
   ]
  },
  {
   "cell_type": "code",
   "execution_count": 7,
   "id": "250d8c6a",
   "metadata": {},
   "outputs": [
    {
     "name": "stdout",
     "output_type": "stream",
     "text": [
      "The division of 18 and 9 is: 2.0\n"
     ]
    }
   ],
   "source": [
    "# Define two numbers\n",
    "num1 = 18\n",
    "num2 = 9\n",
    "\n",
    "# Divide the numbers\n",
    "result = num1 / num2\n",
    "\n",
    "# Print the result\n",
    "print(\"The division of\", num1, \"and\", num2, \"is:\", result)"
   ]
  },
  {
   "cell_type": "code",
   "execution_count": 8,
   "id": "6156af12",
   "metadata": {},
   "outputs": [
    {
     "name": "stdout",
     "output_type": "stream",
     "text": [
      "fruit smoothie\n"
     ]
    }
   ],
   "source": [
    "# Define the words\n",
    "word1 = \"fruit\"\n",
    "word2 = \"smoothie\"\n",
    "\n",
    "# concatenate the words with a space between them\n",
    "concatenated_word = word1 + \" \" + word2\n",
    "\n",
    "# Print the result\n",
    "print(concatenated_word)"
   ]
  },
  {
   "cell_type": "code",
   "execution_count": 11,
   "id": "221bb1d2",
   "metadata": {},
   "outputs": [
    {
     "name": "stdout",
     "output_type": "stream",
     "text": [
      "['cat', 42, 'lizard', 121]\n"
     ]
    }
   ],
   "source": [
    "# Create a list with four items\n",
    "my_list = [\"cat\", 42, \"lizard\", 121]\n",
    "\n",
    "# Print the list \n",
    "print(my_list)\n"
   ]
  },
  {
   "cell_type": "code",
   "execution_count": 12,
   "id": "b6bbae67",
   "metadata": {},
   "outputs": [
    {
     "name": "stdout",
     "output_type": "stream",
     "text": [
      "['cat', 42, 'lizard', 121, 'bookmark']\n"
     ]
    }
   ],
   "source": [
    "# Create the initial list\n",
    "my_list = [\"cat\", 42, \"lizard\", 121]\n",
    "\n",
    "# Append the item \"bookmark\" to the list\n",
    "my_list.append(\"bookmark\")\n",
    "\n",
    "# Print the updated list\n",
    "print(my_list)"
   ]
  },
  {
   "cell_type": "code",
   "execution_count": 13,
   "id": "32c22d29",
   "metadata": {},
   "outputs": [
    {
     "name": "stdout",
     "output_type": "stream",
     "text": [
      "('stickers', 'calendar', 'tape', 'telephone')\n"
     ]
    }
   ],
   "source": [
    "# Create a tuple \n",
    "my_tuple = (\"stickers\", \"calendar\", \"tape\", \"telephone\")\n",
    "\n",
    "# Print the tuple \n",
    "print(my_tuple)\n"
   ]
  },
  {
   "cell_type": "code",
   "execution_count": null,
   "id": "49aa3542",
   "metadata": {},
   "outputs": [],
   "source": []
  }
 ],
 "metadata": {
  "kernelspec": {
   "display_name": "Python 3 (ipykernel)",
   "language": "python",
   "name": "python3"
  },
  "language_info": {
   "codemirror_mode": {
    "name": "ipython",
    "version": 3
   },
   "file_extension": ".py",
   "mimetype": "text/x-python",
   "name": "python",
   "nbconvert_exporter": "python",
   "pygments_lexer": "ipython3",
   "version": "3.11.4"
  }
 },
 "nbformat": 4,
 "nbformat_minor": 5
}
